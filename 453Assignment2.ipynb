{
 "cells": [
  {
   "cell_type": "markdown",
   "metadata": {},
   "source": []
  },
  {
   "cell_type": "code",
   "execution_count": null,
   "metadata": {},
   "outputs": [],
   "source": [
    "import numpy as np\n",
    "import matplotlib\n",
    "from scipy.integrate import solve_ivp"
   ]
  },
  {
   "cell_type": "code",
   "execution_count": null,
   "metadata": {},
   "outputs": [],
   "source": [
    "## INITIALIZES VALUE TO USE IN SOLVING RADIATIVE ENERGY BALANCE MODEL\n",
    "\n",
    "# MODEL PARAMETERS\n",
    "SIGMA_B = 5.6696*10**(-8) # Stefan-Boltzmann constant [W/m^2K^4]\n",
    "S0 = 1368 # solar constant [W/m^2]\n",
    "RE = 6371*10**3 # radius of Earth [m]\n",
    "AE = np.pi*RE**2 # surface area of Earth [m^2]\n",
    "EPS = 1 # total emissivity of Earth (= 1 -> ideal black body)\n",
    "TAU = 0.63 # atmospheric transmissivity\n",
    "ALPHA_SKY = 0.2 # atmospheric albedo\n",
    "ALPHA_LS = 0.4 # land surface albedo\n",
    "ALPHA_OS = 0.1 # ocean surface albedo\n",
    "ALPHA_ICE = 0.6 # ice albedo\n",
    "RHO_LS = 2500 # density of land surface [kg/m^3]\n",
    "RHO_OW = 1028 # density of ocean water [kg/m^3]\n",
    "RHO_ICE = 900 # density of ice [kg/m^3]\n",
    "Z_S = 1 # thermal scale depth for land [m]\n",
    "Z_W = 70 # thermal scale depth for ocean [m]\n",
    "Z_ICE = 1 # thermal scale depth for ice [m]\n",
    "C_S = 790 # specific heat capacity for land [J*kg/K]\n",
    "C_W = 4187 # specific heat capacity for water [J*kg/K]\n",
    "C_I = 2060 # specific heat capacity for ice [J*kg/K]\n",
    "\n",
    "# ZONE PROPERTIES\n",
    "# 1\n",
    "a1 = 0.067\n",
    "gamma_1 = 0.1076\n",
    "# 2\n",
    "a2 = 0.183\n",
    "gamma_2 = 0.2277\n",
    "# 3\n",
    "a3 = 0.25\n",
    "gamma_3 = 0.3045\n",
    "# 4\n",
    "a4 = 0.25\n",
    "gamma_4 = 0.3045\n",
    "# 5\n",
    "a5 = 0.183\n",
    "gamma_5 = 0.2277\n",
    "# 6\n",
    "a6 = 0.067\n",
    "gamma_6 = 0.1076\n",
    "\n",
    "# INTRA-ZONAL EXCHANGES\n",
    "# boundary 12 (60deg S)\n",
    "L12 = 2.0015*10**7 # boundary length [m]\n",
    "k12 = 1*10**7 # thermal exchange coefficient [W/mK]\n",
    "# boundary 23 (30deg S)\n",
    "L23 = 3.4667*10**7\n",
    "k23 = 1*10**7\n",
    "# boundary 34 (0deg)\n",
    "L34 = 4.003*10**7\n",
    "k34 = 1*10**7\n",
    "# boundary 45\n",
    "L45 = 3.4667*10**7\n",
    "k45 = 5*10**7\n",
    "# boundary 56\n",
    "L56 = 2.0015*10**7\n",
    "k56 = 1*10**7"
   ]
  },
  {
   "cell_type": "code",
   "execution_count": null,
   "metadata": {},
   "outputs": [],
   "source": [
    "def calc_ave_values(land, ocean, ice):\n",
    "    '''Receives proportion of land, ocean, and ice area on the surface of the zone.\n",
    "    Returns the zonally averaged density (ave_rho), specific heat capacity (ave_c), and albedo (ave_alpha).'''\n",
    "    ave_rho = (land * RHO_LS) + (ocean * RHO_OW) + (ice * RHO_ICE)\n",
    "    ave_c = (land * C_S) + (ocean * C_W) + (ice * C_I)\n",
    "    ave_alpha = (land * ALPHA_LS) + (ocean * ALPHA_OS) + (ice * ALPHA_ICE)\n",
    "    ave_zed = (land * Z_S) + (ocean * Z_W) + (ice * Z_ICE)\n",
    "    return ave_rho, ave_c, ave_alpha, ave_zed"
   ]
  },
  {
   "cell_type": "code",
   "execution_count": null,
   "metadata": {},
   "outputs": [],
   "source": [
    "# Define proportion of land, ocean, and ice cover on the zones.\n",
    "land = np.array([0.1, 0.2, 0.3, 0.3, 0.1, 0.05])\n",
    "ocean = np.array([0.6, 0.7, 0.7, 0.7, 0.8, 0.6])\n",
    "ice = np.array([0.3, 0.1, 0.0, 0.0, 0.1, 0.35])\n",
    "\n",
    "# Calculate zonally averaged density, specific heat capacity, and albedo.\n",
    "rho = np.zeros(6)\n",
    "c = np.zeros(6)\n",
    "alpha = np.zeros(6)\n",
    "Zed = np.zeros(6)\n",
    "for i in range(6):\n",
    "    rho[i], c[i], alpha[i], Zed[i] = calc_ave_values(land[i],ocean[i],ice[i])"
   ]
  },
  {
   "cell_type": "code",
   "execution_count": null,
   "metadata": {},
   "outputs": [],
   "source": [
    "def equations(t, T):\n",
    "    dT1_dt = (1/(rho[0]*c[0]*Zed[0]))*((gamma_1*(1-ALPHA_SKY)*(1-alpha[0]))*S0 - TAU*SIGMA_B*(T[0]**4)) + (((L12*k12)*(T[1] - T[0])) / (a1*rho[0]*c[0]*Zed[0]))\n",
    "    dT2_dt = (1/(rho[1]*c[1]*Zed[1]))*((gamma_2*(1-ALPHA_SKY)*(1-alpha[1]))*S0 - TAU*SIGMA_B*(T[1]**4)) + (((L23*k23*(T[2] - T[1]))-(L12*k12*(T[1] - T[0])))/(a2*rho[1]*c[1]*Zed[1]))\n",
    "    dT3_dt = (1/(rho[2]*c[2]*Zed[2]))*((gamma_3*(1-ALPHA_SKY)*(1-alpha[2]))*S0 - TAU*SIGMA_B*(T[2]**4)) + (((L34*k34*(T[3] - T[2]))-(L23*k23*(T[2] - T[1])))/(a3*rho[2]*c[2]*Zed[2]))\n",
    "    dT4_dt = (1/(rho[3]*c[3]*Zed[3]))*((gamma_4*(1-ALPHA_SKY)*(1-alpha[3]))*S0 - TAU*SIGMA_B*(T[3]**4)) + (((L45*k45*(T[4] - T[3]))-(L34*k34*(T[3] - T[2])))/(a4*rho[3]*c[3]*Zed[3]))\n",
    "    dT5_dt = (1/(rho[4]*c[4]*Zed[4]))*((gamma_5*(1-ALPHA_SKY)*(1-alpha[4]))*S0 - TAU*SIGMA_B*(T[4]**4)) + (((L56*k56*(T[5] - T[4]))-(L45*k45*(T[4] - T[3])))/(a5*rho[4]*c[4]*Zed[4]))\n",
    "    dT6_dt = (1/(rho[5]*c[5]*Zed[5]))*((gamma_6*(1-ALPHA_SKY)*(1-alpha[5]))*S0 - TAU*SIGMA_B*(T[5]**4)) - (((L56*k56)*(T[5] - T[4])) / (a6*rho[5]*c[5]*Zed[5]))\n",
    "    return dT1_dt, dT2_dt, dT3_dt, dT4_dt, dT5_dt, dT6_dt\n",
    "\n"
   ]
  },
  {
   "cell_type": "code",
   "execution_count": null,
   "metadata": {},
   "outputs": [],
   "source": [
    "init_temps = np.zeros(6)\n",
    "init_temps[0] = 0.0\n",
    "init_temps[1] = 0.0\n",
    "init_temps[2] = 0.0\n",
    "init_temps[3] = 0.0\n",
    "init_temps[4] = 0.0\n",
    "init_temps[5] = 0.0"
   ]
  },
  {
   "cell_type": "code",
   "execution_count": null,
   "metadata": {},
   "outputs": [],
   "source": [
    "this_method = 'RK23'\n",
    "\n",
    "# Define maximum allowable time step for solve_ivp.\n",
    "max_dt = 1\n",
    "\n",
    "# Assign the results of solve_ivp to the variable 'sol'\n",
    "sol = solve_ivp(equations, [0,5], init_temps, method=this_method) #, max_step=max_dt)"
   ]
  },
  {
   "cell_type": "code",
   "execution_count": null,
   "metadata": {},
   "outputs": [],
   "source": [
    "# Plot\n",
    "plt.plot(sol.t, sol.y[0], label = 'Zone 1')\n",
    "plt.plot(sol.t, sol.y[1], label = 'Zone 2')\n",
    "plt.plot(sol.t, sol.y[2], label = 'Zone 3')\n",
    "plt.plot(sol.t, sol.y[3], label = 'Zone 4')\n",
    "plt.plot(sol.t, sol.y[4], label = 'Zone 5')\n",
    "plt.plot(sol.t, sol.y[5], label = 'Zone 6')\n",
    "plt.xlabel('year')\n",
    "plt.ylabel('Temperature (K)')\n",
    "plt.title(f'Temperature Model using solve_ivp: {this_method} (max. dt = {max_dt} yrs)')\n",
    "plt.legend()\n",
    "plt.show()"
   ]
  },
  {
   "cell_type": "markdown",
   "metadata": {},
   "source": []
  }
 ],
 "metadata": {
  "kernelspec": {
   "display_name": "Python 3.9.12 ('eosc510')",
   "language": "python",
   "name": "python3"
  },
  "language_info": {
   "codemirror_mode": {
    "name": "ipython",
    "version": 3
   },
   "file_extension": ".py",
   "mimetype": "text/x-python",
   "name": "python",
   "nbconvert_exporter": "python",
   "pygments_lexer": "ipython3",
   "version": "3.9.12"
  },
  "orig_nbformat": 4,
  "vscode": {
   "interpreter": {
    "hash": "61d492dd881ec7ceb6d09b3dac3bc26a57bb24051f94376201f49d373f580946"
   }
  }
 },
 "nbformat": 4,
 "nbformat_minor": 2
}
